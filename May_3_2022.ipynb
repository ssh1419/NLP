{
  "nbformat": 4,
  "nbformat_minor": 0,
  "metadata": {
    "colab": {
      "name": "May.3.2022.ipynb",
      "provenance": [],
      "authorship_tag": "ABX9TyMJXxCNFvCboIyGg0NkcJGs",
      "include_colab_link": true
    },
    "kernelspec": {
      "name": "python3",
      "display_name": "Python 3"
    },
    "language_info": {
      "name": "python"
    }
  },
  "cells": [
    {
      "cell_type": "markdown",
      "metadata": {
        "id": "view-in-github",
        "colab_type": "text"
      },
      "source": [
        "<a href=\"https://colab.research.google.com/github/ssh1419/NLP/blob/main/May_3_2022.ipynb\" target=\"_parent\"><img src=\"https://colab.research.google.com/assets/colab-badge.svg\" alt=\"Open In Colab\"/></a>"
      ]
    },
    {
      "cell_type": "markdown",
      "source": [
        "### Example 3-11. A supervised training loop for a perceptron and binary classification\n",
        "\n",
        "    # each epoch is a complete pass over the training data\n",
        "    for epoch_i in range(n_epochs):\n",
        "    # the inner loop is over the batches in the dataset\n",
        "    for batch_i in range(n_batches):\n",
        "\n",
        "        # Step 0: Get the data\n",
        "        x_data, y_target = get_toy_data(batch_size)\n",
        "\n",
        "        # Step 1: Clear the gradients \n",
        "        perceptron.zero_grad()\n",
        "\n",
        "        # Step 2: Compute the forward pass of the model\n",
        "        y_pred = perceptron(x_data, apply_sigmoid=True)\n",
        "\n",
        "        # Step 3: Compute the loss value that we wish to optimize\n",
        "        loss = bce_loss(y_pred, y_target)\n",
        "\n",
        "        # Step 4: Propagate the loss signal backward\n",
        "        loss.backward()\n",
        "\n",
        "        # Step 5: Trigger the optimizer to perform one update\n",
        "        optimizer.step()"
      ],
      "metadata": {
        "id": "ihKlou-YYAs_"
      }
    },
    {
      "cell_type": "markdown",
      "source": [
        "## Auxiliary Training Concepts"
      ],
      "metadata": {
        "id": "gMJNsMFMgIfm"
      }
    },
    {
      "cell_type": "code",
      "source": [
        ""
      ],
      "metadata": {
        "id": "K5HNpPXDYAR7"
      },
      "execution_count": 2,
      "outputs": []
    },
    {
      "cell_type": "code",
      "execution_count": null,
      "metadata": {
        "id": "Nj9Aerm9X1Sy"
      },
      "outputs": [],
      "source": [
        ""
      ]
    }
  ]
}