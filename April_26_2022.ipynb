{
  "nbformat": 4,
  "nbformat_minor": 0,
  "metadata": {
    "colab": {
      "name": "April_26_2022.ipynb",
      "provenance": [],
      "collapsed_sections": [],
      "authorship_tag": "ABX9TyNHCMRS0/3owFfzYiUcnbuP",
      "include_colab_link": true
    },
    "kernelspec": {
      "name": "python3",
      "display_name": "Python 3"
    },
    "language_info": {
      "name": "python"
    },
    "accelerator": "GPU"
  },
  "cells": [
    {
      "cell_type": "markdown",
      "metadata": {
        "id": "view-in-github",
        "colab_type": "text"
      },
      "source": [
        "<a href=\"https://colab.research.google.com/github/ssh1419/NLP/blob/main/April_26_2022.ipynb\" target=\"_parent\"><img src=\"https://colab.research.google.com/assets/colab-badge.svg\" alt=\"Open In Colab\"/></a>"
      ]
    },
    {
      "cell_type": "code",
      "source": [
        "def describe(x):\n",
        "    print(\"Type: {}\".format(x.type()))\n",
        "    print(\"Shape/size: {}\".format(x.shape))\n",
        "    print(\"Values: \\n{}\".format(x))"
      ],
      "metadata": {
        "id": "L78An9Eo9ZbN"
      },
      "execution_count": 2,
      "outputs": []
    },
    {
      "cell_type": "code",
      "execution_count": 3,
      "metadata": {
        "colab": {
          "base_uri": "https://localhost:8080/"
        },
        "id": "zKzTm-OSmX7I",
        "outputId": "6930ff9e-d0d6-4d99-db43-73eea4ce9e91"
      },
      "outputs": [
        {
          "output_type": "stream",
          "name": "stdout",
          "text": [
            "Type: torch.DoubleTensor\n",
            "Shape/size: torch.Size([2, 3])\n",
            "Values: \n",
            "tensor([[0.2998, 0.7225, 0.8179],\n",
            "        [0.6285, 0.3550, 0.3808]], dtype=torch.float64)\n"
          ]
        }
      ],
      "source": [
        "import torch\n",
        "import numpy as np\n",
        "npy = np.random.rand(2, 3)\n",
        "describe(torch.from_numpy(npy))"
      ]
    },
    {
      "cell_type": "code",
      "source": [
        "x = torch.FloatTensor([[1, 2, 3],  \n",
        "                      [4, 5, 6]])\n",
        "describe(x)"
      ],
      "metadata": {
        "colab": {
          "base_uri": "https://localhost:8080/"
        },
        "id": "8TngtPGs9RE8",
        "outputId": "7a3d1707-a9d7-4c80-cc5c-e142fefc3ef4"
      },
      "execution_count": 4,
      "outputs": [
        {
          "output_type": "stream",
          "name": "stdout",
          "text": [
            "Type: torch.FloatTensor\n",
            "Shape/size: torch.Size([2, 3])\n",
            "Values: \n",
            "tensor([[1., 2., 3.],\n",
            "        [4., 5., 6.]])\n"
          ]
        }
      ]
    },
    {
      "cell_type": "code",
      "source": [
        "describe(torch.cat([x, x], dim=0))"
      ],
      "metadata": {
        "colab": {
          "base_uri": "https://localhost:8080/"
        },
        "id": "-uMKVVq-9k6o",
        "outputId": "95e66ae4-e936-4e89-bccd-baa080a9b98e"
      },
      "execution_count": 5,
      "outputs": [
        {
          "output_type": "stream",
          "name": "stdout",
          "text": [
            "Type: torch.FloatTensor\n",
            "Shape/size: torch.Size([4, 3])\n",
            "Values: \n",
            "tensor([[1., 2., 3.],\n",
            "        [4., 5., 6.],\n",
            "        [1., 2., 3.],\n",
            "        [4., 5., 6.]])\n"
          ]
        }
      ]
    },
    {
      "cell_type": "code",
      "source": [
        "describe(torch.cat([x, x], dim=1))"
      ],
      "metadata": {
        "colab": {
          "base_uri": "https://localhost:8080/"
        },
        "id": "7HStCGGg_bn0",
        "outputId": "ab66539c-3144-438b-b938-7ce13fb71f48"
      },
      "execution_count": 6,
      "outputs": [
        {
          "output_type": "stream",
          "name": "stdout",
          "text": [
            "Type: torch.FloatTensor\n",
            "Shape/size: torch.Size([2, 6])\n",
            "Values: \n",
            "tensor([[1., 2., 3., 1., 2., 3.],\n",
            "        [4., 5., 6., 4., 5., 6.]])\n"
          ]
        }
      ]
    },
    {
      "cell_type": "code",
      "source": [
        "import torch\n",
        "print (torch.cuda.is_available())\n",
        "\n",
        "# 수정/노트 설정\n",
        "## 여기서 cuda 로 바꿀 수 있음"
      ],
      "metadata": {
        "colab": {
          "base_uri": "https://localhost:8080/"
        },
        "id": "Fr-UlMCYA1I3",
        "outputId": "bafc2f33-cc98-4cd0-f441-ac1a58764b65"
      },
      "execution_count": 1,
      "outputs": [
        {
          "output_type": "stream",
          "name": "stdout",
          "text": [
            "True\n"
          ]
        }
      ]
    },
    {
      "cell_type": "code",
      "source": [
        "# preferred method: device agnostic tensor instantiation\n",
        "device = torch.device(\"cuda\" if torch.cuda.is_available() else \"cpu\")\n",
        "print (device)"
      ],
      "metadata": {
        "colab": {
          "base_uri": "https://localhost:8080/"
        },
        "id": "NSP_Ur1q_d2b",
        "outputId": "dee1c338-3e4a-44f1-8e68-59f8f24a4c42"
      },
      "execution_count": 2,
      "outputs": [
        {
          "output_type": "stream",
          "name": "stdout",
          "text": [
            "cuda\n"
          ]
        }
      ]
    },
    {
      "cell_type": "code",
      "source": [
        "# Exercise\n",
        "\n",
        "## 1.\n",
        "a = torch.rand(3, 3)\n",
        "a.unsqueeze(0)"
      ],
      "metadata": {
        "colab": {
          "base_uri": "https://localhost:8080/"
        },
        "id": "i23m75CJApX0",
        "outputId": "dd8f9565-9d6c-4e00-f1d5-623393aedda4"
      },
      "execution_count": 7,
      "outputs": [
        {
          "output_type": "execute_result",
          "data": {
            "text/plain": [
              "tensor([[[0.3123, 0.0342, 0.7939],\n",
              "         [0.6343, 0.3780, 0.6126],\n",
              "         [0.7580, 0.7069, 0.9784]]])"
            ]
          },
          "metadata": {},
          "execution_count": 7
        }
      ]
    },
    {
      "cell_type": "code",
      "source": [
        "## 2.\n",
        "a.squeeze(0)"
      ],
      "metadata": {
        "colab": {
          "base_uri": "https://localhost:8080/"
        },
        "id": "MCGnoAIUBqfI",
        "outputId": "e46afbcf-dc71-4194-e8b0-15f970d099e8"
      },
      "execution_count": 8,
      "outputs": [
        {
          "output_type": "execute_result",
          "data": {
            "text/plain": [
              "tensor([[0.3123, 0.0342, 0.7939],\n",
              "        [0.6343, 0.3780, 0.6126],\n",
              "        [0.7580, 0.7069, 0.9784]])"
            ]
          },
          "metadata": {},
          "execution_count": 8
        }
      ]
    },
    {
      "cell_type": "code",
      "source": [
        "## 3.\n",
        "3 + torch.rand(5, 3) * (7 - 3)"
      ],
      "metadata": {
        "colab": {
          "base_uri": "https://localhost:8080/"
        },
        "id": "lPJSy43qCZSS",
        "outputId": "83e88c97-804a-4ccf-d731-f635ad38808b"
      },
      "execution_count": 6,
      "outputs": [
        {
          "output_type": "execute_result",
          "data": {
            "text/plain": [
              "tensor([[6.7775, 4.5199, 3.9935],\n",
              "        [3.4617, 4.3688, 3.7699],\n",
              "        [6.6716, 4.7270, 5.0996],\n",
              "        [4.0167, 5.8897, 3.7229],\n",
              "        [6.8974, 6.9758, 3.8514]])"
            ]
          },
          "metadata": {},
          "execution_count": 6
        }
      ]
    },
    {
      "cell_type": "code",
      "source": [
        "## 4.\n",
        "a = torch.rand(3, 3)\n",
        "a.normal_()\n",
        "\n",
        "## 5.\n",
        "a = torch.rand(3, 1)\n",
        "a.expand(3, 4)"
      ],
      "metadata": {
        "id": "4oSh2X3VCjXi"
      },
      "execution_count": null,
      "outputs": []
    },
    {
      "cell_type": "markdown",
      "source": [
        "# Chapter 2. A Quick Tour of Traditional NLP"
      ],
      "metadata": {
        "id": "rEj4vE3pGTKU"
      }
    },
    {
      "cell_type": "markdown",
      "source": [
        "## Corpora, Tokens, and Types\n",
        "\n",
        "*   A corpus usually contains raw text (in ASCII or UTF-8)\n",
        "*   The text along with its metadata is called an instance or data point.\n",
        "*  The process of breaking a text down into tokens is called tokenization."
      ],
      "metadata": {
        "id": "wrNHH1OiGeEz"
      }
    },
    {
      "cell_type": "code",
      "source": [
        "import spacy\n",
        "nlp = spacy.load('en')\n",
        "text = \"Mary, don’t slap the green witch\"\n",
        "print([str(token) for token in nlp(text.lower())])"
      ],
      "metadata": {
        "colab": {
          "base_uri": "https://localhost:8080/"
        },
        "id": "JxjxawyxGY2X",
        "outputId": "079aec9e-e75d-423b-cb58-d910f06af3c2"
      },
      "execution_count": 10,
      "outputs": [
        {
          "output_type": "stream",
          "name": "stdout",
          "text": [
            "['mary', ',', 'do', 'n’t', 'slap', 'the', 'green', 'witch']\n"
          ]
        }
      ]
    },
    {
      "cell_type": "code",
      "source": [
        "from nltk.tokenize import TweetTokenizer\n",
        "tweet=\"Snow White and the Seven Degrees #MakeAMovieCold@midnight:-)\"\n",
        "tokenizer = TweetTokenizer()\n",
        "print(tokenizer.tokenize(tweet.lower()))"
      ],
      "metadata": {
        "colab": {
          "base_uri": "https://localhost:8080/"
        },
        "id": "VkAPDh6WHNuT",
        "outputId": "28bb288a-bfda-48c4-feac-da8170efa0e6"
      },
      "execution_count": 14,
      "outputs": [
        {
          "output_type": "stream",
          "name": "stdout",
          "text": [
            "['snow', 'white', 'and', 'the', 'seven', 'degrees', '#makeamoviecold', '@midnight', ':-)']\n"
          ]
        }
      ]
    },
    {
      "cell_type": "markdown",
      "source": [
        "## Unigrams, Bigrams, Trigrams, …, N-grams\n",
        "\n",
        "\n",
        "\n",
        "*   N-grams are fixed-length (n) consecutive token sequences occurring in the text.\n",
        "*   A bigram has two tokens, a unigram one.\n",
        "\n"
      ],
      "metadata": {
        "id": "EHo5uWTcH14Z"
      }
    },
    {
      "cell_type": "markdown",
      "source": [
        "### Example 2-2. Generating n-grams from text"
      ],
      "metadata": {
        "id": "LwmKRGNGJE82"
      }
    },
    {
      "cell_type": "code",
      "source": [
        "def n_grams(text, n):\n",
        "    '''\n",
        "    takes tokens or text, returns a list of n-grams\n",
        "    '''\n",
        "    return [text[i:i+n] for i in range(len(text)-n+1)]\n",
        "\n",
        "cleaned = ['mary', ',', \"n't\", 'slap', 'green', 'witch', '.']\n",
        "print(n_grams(cleaned, 3))"
      ],
      "metadata": {
        "colab": {
          "base_uri": "https://localhost:8080/"
        },
        "id": "-pNjeZMeHbzc",
        "outputId": "ab1df9f4-e039-4d54-d2fd-ab767d71d855"
      },
      "execution_count": 16,
      "outputs": [
        {
          "output_type": "stream",
          "name": "stdout",
          "text": [
            "[['mary', ',', \"n't\"], [',', \"n't\", 'slap'], [\"n't\", 'slap', 'green'], ['slap', 'green', 'witch'], ['green', 'witch', '.']]\n"
          ]
        }
      ]
    },
    {
      "cell_type": "markdown",
      "source": [
        "## Lemmas and Stems\n",
        "\n",
        "*   Lemmas are root forms of words.\n",
        "*   It can be inflected into many different words—flow, flew, flies, flown, flowing, and so on—and fly is the lemma\n",
        "\n"
      ],
      "metadata": {
        "id": "5JQAIlYeJaAD"
      }
    },
    {
      "cell_type": "markdown",
      "source": [
        "### Example 2-3. Lemmatization: reducing words to their root forms"
      ],
      "metadata": {
        "id": "BXEPS0Q5M7qM"
      }
    },
    {
      "cell_type": "code",
      "source": [
        "# token.lemma_\n",
        "\n",
        "import spacy\n",
        "nlp = spacy.load('en')\n",
        "doc = nlp(u\"he was running late\")\n",
        "for token in doc:\n",
        "    print('{} --> {}'.format(token, token.lemma_))"
      ],
      "metadata": {
        "colab": {
          "base_uri": "https://localhost:8080/"
        },
        "id": "2rACIfPMICIc",
        "outputId": "f39063da-c3b0-4b80-e589-a4a3604f3897"
      },
      "execution_count": 17,
      "outputs": [
        {
          "output_type": "stream",
          "name": "stdout",
          "text": [
            "he --> -PRON-\n",
            "was --> be\n",
            "running --> run\n",
            "late --> late\n"
          ]
        }
      ]
    },
    {
      "cell_type": "markdown",
      "source": [
        "\n",
        "\n",
        "*   Stemming is the poor-man’s lemmatization.\n",
        "*   It involves the use of handcrafted rules to strip endings of words to reduce them to a common form called stems.\n",
        "*   Porter and Snowball stemmers\n",
        "\n"
      ],
      "metadata": {
        "id": "GRJT8r8-NQgw"
      }
    },
    {
      "cell_type": "markdown",
      "source": [
        "## Categorizing Sentences and Documents\n",
        "\n",
        "*   Categorizing or classifying documents is probably one of the earliest applications of NLP. \n",
        "*   TF and TF-IDF\n",
        "\n",
        "\n"
      ],
      "metadata": {
        "id": "rG2anDRUNcWu"
      }
    },
    {
      "cell_type": "markdown",
      "source": [
        "## Categorizing Words: POS Tagging\n",
        "\n",
        "*   A common example of categorizing words is part-of-speech (POS) tagging"
      ],
      "metadata": {
        "id": "TZ4EcZjUNvSK"
      }
    },
    {
      "cell_type": "markdown",
      "source": [
        "### Example 2-4. Part-of-speech tagging"
      ],
      "metadata": {
        "id": "dKu2FsQaN5CF"
      }
    },
    {
      "cell_type": "code",
      "source": [
        "# token.pos_\n",
        "\n",
        "import spacy\n",
        "nlp = spacy.load('en')\n",
        "doc = nlp(u\"Mary slapped the green witch.\")\n",
        "for token in doc:\n",
        "    print('{} - {}'.format(token, token.pos_))"
      ],
      "metadata": {
        "colab": {
          "base_uri": "https://localhost:8080/"
        },
        "id": "yIplvWMBN4rw",
        "outputId": "67a04501-1f54-492e-b763-1faf31c5210c"
      },
      "execution_count": 18,
      "outputs": [
        {
          "output_type": "stream",
          "name": "stdout",
          "text": [
            "Mary - PROPN\n",
            "slapped - VERB\n",
            "the - DET\n",
            "green - ADJ\n",
            "witch - NOUN\n",
            ". - PUNCT\n"
          ]
        }
      ]
    },
    {
      "cell_type": "markdown",
      "source": [
        "## Categorizing Spans: Chunking and Named Entity Recognition\n",
        "\n",
        "*   This is called chunking or shallow parsing."
      ],
      "metadata": {
        "id": "Fz8GuUocOKM3"
      }
    },
    {
      "cell_type": "markdown",
      "source": [
        "### Example 2-5. Noun Phrase (NP) chunking"
      ],
      "metadata": {
        "id": "dwLK9ctROpJa"
      }
    },
    {
      "cell_type": "code",
      "source": [
        "# noun_chunks\n",
        "\n",
        "import spacy\n",
        "nlp = spacy.load('en')\n",
        "doc  = nlp(u\"Mary slapped the green witch.\")\n",
        "for chunk in doc.noun_chunks:\n",
        "    print ('{} - {}'.format(chunk, chunk.label_))"
      ],
      "metadata": {
        "colab": {
          "base_uri": "https://localhost:8080/"
        },
        "id": "D44le5qNM-MV",
        "outputId": "0c065eb5-2e9f-4723-b8ad-57f029383554"
      },
      "execution_count": 19,
      "outputs": [
        {
          "output_type": "stream",
          "name": "stdout",
          "text": [
            "Mary - NP\n",
            "the green witch - NP\n"
          ]
        }
      ]
    },
    {
      "cell_type": "markdown",
      "source": [
        "## Structure of Sentences\n",
        "\n",
        "*   The task of identifying the relationship between them is called ***parsing***.\n",
        "*   Parse trees indicate how different grammatical units in a sentence are related hierarchically.\n",
        "\n"
      ],
      "metadata": {
        "id": "9Ohp5hlvRfqe"
      }
    },
    {
      "cell_type": "markdown",
      "source": [
        "## Word Senses and Semantics\n",
        "\n",
        "*   The different meanings of a word are called its senses. \n",
        "*   Automatic discovery of word senses from text was actually the first place semi-supervised learning was applied to NLP. \n",
        "\n"
      ],
      "metadata": {
        "id": "e9-vSduqSkJd"
      }
    },
    {
      "cell_type": "code",
      "source": [
        ""
      ],
      "metadata": {
        "id": "95q_RuPZOsNh"
      },
      "execution_count": null,
      "outputs": []
    }
  ]
}